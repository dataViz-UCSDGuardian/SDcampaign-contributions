{
 "cells": [
  {
   "cell_type": "code",
   "execution_count": 1,
   "metadata": {},
   "outputs": [],
   "source": [
    "import pandas as pd"
   ]
  },
  {
   "cell_type": "code",
   "execution_count": 4,
   "metadata": {},
   "outputs": [],
   "source": [
    "df = pd.read_csv(\"financial_support_2018_datasd (1).csv\")"
   ]
  },
  {
   "cell_type": "code",
   "execution_count": 5,
   "metadata": {},
   "outputs": [],
   "source": [
    "df = df.drop(['report_period_from', 'report_period_to', 'intermediary_first', 'intermediary_last', 'intermediary_city', 'intermediary_state', 'intermediary_zip'], axis=1)"
   ]
  },
  {
   "cell_type": "code",
   "execution_count": 12,
   "metadata": {},
   "outputs": [],
   "source": [
    "df_rec_id = df.groupby('recipient_id').recipient_id.size()"
   ]
  },
  {
   "cell_type": "code",
   "execution_count": 13,
   "metadata": {},
   "outputs": [],
   "source": [
    "df_rec_name = df.groupby('recipient_name').recipient_name.size()"
   ]
  },
  {
   "cell_type": "code",
   "execution_count": 14,
   "metadata": {},
   "outputs": [
    {
     "data": {
      "text/plain": [
       "60"
      ]
     },
     "execution_count": 14,
     "metadata": {},
     "output_type": "execute_result"
    }
   ],
   "source": [
    "df_rec_id.size"
   ]
  },
  {
   "cell_type": "code",
   "execution_count": 15,
   "metadata": {},
   "outputs": [
    {
     "data": {
      "text/plain": [
       "137"
      ]
     },
     "execution_count": 15,
     "metadata": {},
     "output_type": "execute_result"
    }
   ],
   "source": [
    "df_rec_name.size"
   ]
  },
  {
   "cell_type": "code",
   "execution_count": 16,
   "metadata": {},
   "outputs": [
    {
     "data": {
      "text/plain": [
       "recipient_id  recipient_name                                                                                                                                                                                          \n",
       "1396315.0     Lorie Zapf for Council 2018                                                                                                                                                                                 945\n",
       "1398814.0     Dr. Jen Campbell for City Council 2018                                                                                                                                                                      714\n",
       "1394460.0     Cate for Council 2018                                                                                                                                                                                       665\n",
       "1395590.0     Vivian Moreno for City Council 2018                                                                                                                                                                         511\n",
       "1399902.0     Tommy Hough for City Council 2018                                                                                                                                                                           330\n",
       "1394941.0     Antonio Martinez for San Diego City Council 2018                                                                                                                                                            300\n",
       "1394504.0     Re-Elect Myrtle Cole for City Council 2018                                                                                                                                                                  278\n",
       "1397470.0     Christian Ramirez for San Diego City Council 2018                                                                                                                                                           265\n",
       "1397080.0     Friends of SDSU, Yes on G, No on E, a coalition of SDSU alumni, business and community leaders                                                                                                              200\n",
       "1408066.0     Share San Diego                                                                                                                                                                                             195\n",
       "1397529.0     Monica Montgomery for City Council 2018                                                                                                                                                                     156\n",
       "1395389.0     Bryan Pease for City Council 2018                                                                                                                                                                           132\n",
       "1394143.0     Jordan Beane for City Council 2018                                                                                                                                                                          102\n",
       "1399478.0     Yes! For a Better San Diego - supported by a coalition of downtown tourism and lodging organizations, civic and community activists and homeless advocates. Sponsored by the San Diego Lodging Industry      84\n",
       "1335312.0     San Diego Regional Chamber of Commerce Political Action Committee                                                                                                                                            57\n",
       "1394851.0     GOAL San Diego: Yes on E, No on G, sponsored by MLS SD Pursuit                                                                                                                                               49\n",
       "1395292.0     Public Land, Public Benefit, No on E, Yes on G, a coalition of San Diego taxpayers, community planners, local business, and education, park & environmental advocates. S                                     49\n",
       "1399498.0     Neal Arthur for Council 2018                                                                                                                                                                                 36\n",
       "1316497.0     Laborers LOCAL 89 PAC FUND                                                                                                                                                                                   24\n",
       "1396997.0     Danny Smiechowski for City Council 2018                                                                                                                                                                      24\n",
       "1407934.0     Lorie Zapf Legal Defense Fund                                                                                                                                                                                23\n",
       "811267.0      San Diego Police Officers Assn. Political Action Committee                                                                                                                                                   22\n",
       "1326869.0     Protect Neighborhood Services Now, Sponsored by San Diego Municipal Employees Association                                                                                                                    18\n",
       "1400617.0     Fayaz Nawabi for City Council 2018                                                                                                                                                                           17\n",
       "1400740.0     Coastal Communities Supporting Lorie Zapf for Council 2018, sponsored by the San Diego Regional Chamber of Commerce Political Action Committee and The Lincoln Club of San Diego County                      16\n",
       "1384904.0     San Diegans Against Hate opposing Lorie Zapf for City Council 2018 sponsored by building and construction trades organizations                                                                               15\n",
       "1400742.0     Independent Leadership Coalition Supporting Chris Cate for Council 2018, sponsored by the San Diego Regional Chamber of Commerce Political Action Committee and the Lincoln Club of San Diego County         14\n",
       "1363108.0     California Voter Project                                                                                                                                                                                     13\n",
       "1410314.0     Stand for Jobs, Stop the Vacation Rental Ban. Supported by Homeaway and Share San Diego. Committee Major Funding from AirBnB                                                                                 13\n",
       "1399927.0     VALENTI FOR COUNCIL 2018                                                                                                                                                                                     12\n",
       "1405667.0     Working Families for Christian Ramirez for City Council 2018, sponsored by Service Employees International Union United Services Workers West                                                                12\n",
       "1366059.0     Reelect David Alvarez 2014 for City Council District 8                                                                                                                                                       12\n",
       "1393464.0     David Alvarez for Supervisor 2020                                                                                                                                                                            10\n",
       "1412378.0     Public Integrity League Opposed to Jen Campbell for City Council 2018, sponsored by The Lincoln Club of San Diego County                                                                                     10\n",
       "1404412.0     Working Families for a Better San Diego, Sponsored by San Diego Working Families Council, supporting Antonio Martinez for City Council 2018                                                                  10\n",
       "1392688.0     Communities for a Better Tomorrow by Chris Cate                                                                                                                                                              10\n",
       "1402751.0     Georgette Gomez for City Council 2016 Legal Defense Fund                                                                                                                                                      9\n",
       "1337894.0     San Diego Port Tenants Political Action Committee (Port Tenants PAC)                                                                                                                                          9\n",
       "761453.0      San Diego City Fire Fighters, Local 145 PAC                                                                                                                                                                   8\n",
       "1412628.0     Progressive Labor Alliance PAC, sponsored by labor organization                                                                                                                                               7\n",
       "981406.0      San Diego County Taxpayers Association PAC                                                                                                                                                                    7\n",
       "1397437.0     Zach Lazarus for San Diego City Council 2018                                                                                                                                                                  6\n",
       "1409874.0     We The People for Monica Montgomery D4 City Council 2018                                                                                                                                                      6\n",
       "1280768.0     Neighborhoods for Clean Elections                                                                                                                                                                             6\n",
       "1386049.0     San Diego Unite Here Local 30 Candidate PAC                                                                                                                                                                   5\n",
       "1396637.0     No on Bayfront Convention Center Expansion Tax. Supported by Bayfront Leaseholder enterprise. Major funding by Fifth Avenue Landing LLC                                                                       4\n",
       "1373239.0     San Diego Unite                                                                                                                                                                                               4\n",
       "1377434.0     Gomez for City Council 2016                                                                                                                                                                                   4\n",
       "1413287.0     Building Strong Communities, Supporting Vivian Moreno for Council 2018                                                                                                                                        4\n",
       "1412970.0     Rebuild San Diego with Mark Kersey                                                                                                                                                                            3\n",
       "1408552.0     San Diegans for the Common Good                                                                                                                                                                               3\n",
       "1366044.0     Jim Morrison City Council D2/2014                                                                                                                                                                             2\n",
       "1360628.0     Rising Majority                                                                                                                                                                                               2\n",
       "1384522.0     Committee to Support Prop I, Barbara Bry, and Justin DeCesare sponsored by Alliance San Diego Mobilization Fund                                                                                               2\n",
       "1335733.0     Comprehensive Pension Reform for San Diego (CPR for San Diego)-Yes on B major funding by The Lincoln Club of San Diego Cnty and San Diegans for Pension Reform, advocates for responsible city finances.      2\n",
       "1397779.0     mark Kersey for Senate 2018                                                                                                                                                                                   2\n",
       "1376415.0     Anthony Bernal for City Council 2016                                                                                                                                                                          2\n",
       "1255438.0     Phil Thalheimer for City Council                                                                                                                                                                              2\n",
       "1234153.0     Jim Morrison for City Council                                                                                                                                                                                 2\n",
       "1377181.0     Faulconer for Mayor 2016                                                                                                                                                                                      2\n",
       "dtype: int64"
      ]
     },
     "execution_count": 16,
     "metadata": {},
     "output_type": "execute_result"
    }
   ],
   "source": [
    "df.groupby(['recipient_id', 'recipient_name']).size().sort_values(ascending=False)"
   ]
  },
  {
   "cell_type": "code",
   "execution_count": 18,
   "metadata": {},
   "outputs": [
    {
     "data": {
      "text/plain": [
       "contributor_occ\n",
       "                                                       630\n",
       "ADJUNCT PROFESSOR                                        3\n",
       "ADMIN                                                    4\n",
       "ASSISTANT                                                3\n",
       "ATTORNEY                                                 5\n",
       "AVP - Real Estate Development & Community Relations      1\n",
       "Academic Dean                                            1\n",
       "Account Manager                                          2\n",
       "Accountant                                               5\n",
       "Acquisitions & Mergers Consultant                        1\n",
       "Acquisitions Analyst                                     2\n",
       "Actuary                                                  3\n",
       "Acupuncture                                              1\n",
       "Acupuncture & Educator                                   1\n",
       "Acupuncturist                                            1\n",
       "Adjunct Faculty                                          1\n",
       "Adjunct Professor                                        4\n",
       "Admin Analyst                                            2\n",
       "Admin Assistant                                          1\n",
       "Administration                                           1\n",
       "Administrative Analyst                                   2\n",
       "Administrative Assistant                                 1\n",
       "Administrative Coordinator - Women's Studies             1\n",
       "Administrative Manager                                   1\n",
       "Administrator                                            5\n",
       "Administrator & Educator                                 1\n",
       "Administrator Assistant                                  1\n",
       "Advertising budget management                            1\n",
       "Advisor                                                  1\n",
       "Advocate                                                 1\n",
       "                                                      ... \n",
       "Vacation Rentals                                         6\n",
       "Venture Capitalist                                       1\n",
       "Veterinarian                                             2\n",
       "Veterinarian/Founder                                     4\n",
       "Vice Chair                                               1\n",
       "Vice Mayor                                               2\n",
       "Vice President                                          31\n",
       "Vice President - Program Development                     2\n",
       "Vice President Acquisitions & Forward Planning           2\n",
       "Vice President of External Affairs                       1\n",
       "Vice President of Program Development                    3\n",
       "Vice-President - Program Development                     1\n",
       "Vice-President, Program Development                      1\n",
       "Videographer                                             1\n",
       "Water Consultant                                         2\n",
       "Water Manager                                            1\n",
       "Wealth Management                                        1\n",
       "Wealth Manager                                           2\n",
       "Wealth Strategist                                        1\n",
       "Web Developer                                            1\n",
       "Web Development Consultant                               4\n",
       "Website Design/SEO                                       1\n",
       "Website Designer                                         1\n",
       "Wedding Officiant                                        5\n",
       "West Region President                                    1\n",
       "Window/Door Sales and Installation                       1\n",
       "Writer                                                   7\n",
       "Writer/Business Manager                                  1\n",
       "Yoga Instructor                                          1\n",
       "executive                                                1\n",
       "Name: contributor_occ, Length: 978, dtype: int64"
      ]
     },
     "execution_count": 18,
     "metadata": {},
     "output_type": "execute_result"
    }
   ],
   "source": [
    "df.groupby('contributor_occ').contributor_occ.size()"
   ]
  },
  {
   "cell_type": "code",
   "execution_count": null,
   "metadata": {},
   "outputs": [],
   "source": []
  }
 ],
 "metadata": {
  "kernelspec": {
   "display_name": "Python 3",
   "language": "python",
   "name": "python3"
  },
  "language_info": {
   "codemirror_mode": {
    "name": "ipython",
    "version": 3
   },
   "file_extension": ".py",
   "mimetype": "text/x-python",
   "name": "python",
   "nbconvert_exporter": "python",
   "pygments_lexer": "ipython3",
   "version": "3.7.1"
  }
 },
 "nbformat": 4,
 "nbformat_minor": 2
}
